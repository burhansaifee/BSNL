{
 "cells": [
  {
   "cell_type": "code",
   "execution_count": 1,
   "id": "cd5cf7c9",
   "metadata": {},
   "outputs": [
    {
     "name": "stdout",
     "output_type": "stream",
     "text": [
      "✅ complaints.csv saved.\n"
     ]
    }
   ],
   "source": [
    "import pandas as pd\n",
    "complaints = pd.DataFrame([\n",
    "  {\"complaint_id\":\"CMP-001\",\"customer_id\":1002,\"category\":\"Billing\",\"description\":\"Charged extra for data usage\",\"created_at\":\"2025/09/25 10:45\",\"status\":\"Open\"},\n",
    "  {\"complaint_id\":\"CMP-002\",\"customer_id\":1004,\"category\":\"Network\",\"description\":\"Frequent call drops in Delhi\",\"created_at\":\"2025-09-25 09:30\",\"status\":\"Open\"},\n",
    "  {\"complaint_id\":\"CMP-003\",\"customer_id\":1005,\"category\":\"Recharge\",\"description\":\"Recharge failed; amount deducted\",\"created_at\":\"25-09-2025 14:00\",\"status\":\"Closed\"},\n",
    "  {\"complaint_id\":\"CMP-004\",\"customer_id\":1002,\"category\":\"Network\",\"description\":\"Slow 4G speed at night\",\"created_at\":\"2025-09-26 20:40\",\"status\":\"Open\"},\n",
    "  {\"complaint_id\":\"CMP-005\",\"customer_id\":1003,\"category\":\"Support\",\"description\":\"No response to complaint\",\"created_at\":\"2025-09-26 11:10\",\"status\":\"Open\"}\n",
    "])\n",
    "complaints.to_csv(\"complaints.csv\", index=False)\n",
    "print(\"✅ complaints.csv saved.\")\n"
   ]
  },
  {
   "cell_type": "code",
   "execution_count": 3,
   "id": "6220c1b0",
   "metadata": {},
   "outputs": [
    {
     "name": "stdout",
     "output_type": "stream",
     "text": [
      "✅ Connected to MySQL successfully!\n"
     ]
    }
   ],
   "source": [
    "\n",
    "from sqlalchemy import create_engine\n",
    "# Replace with your actual credentials\n",
    "user = 'root'\n",
    "password = 'admin'\n",
    "host = 'localhost'\n",
    "database = 'test'\n",
    "# Create SQLAlchemy engine\n",
    "engine = create_engine(f\"mysql+pymysql://{user}:{password}@{host}/{database}\")\n",
    "# Check connection\n",
    "print(\"✅ Connected to MySQL successfully!\")\n"
   ]
  },
  {
   "cell_type": "markdown",
   "id": "27ad2803",
   "metadata": {},
   "source": [
    "# --- Standardize text ---\n",
    "customers['region']  = customers['region'].str.title().str.strip()\n",
    "complaints['status'] = complaints['status'].str.title().str.strip()\n",
    "complaints['category'] = complaints['category'].str.title().str.strip()\n",
    "\n",
    "# --- Parse and standardize dates ---\n",
    "customers['join_date']  = pd.to_datetime(customers['join_date'],  errors='coerce')\n",
    "complaints['created_at'] = pd.to_datetime(complaints['created_at'], errors='coerce')\n",
    "\n",
    "# Fill unparseable or missing dates\n",
    "default_dt = pd.Timestamp('2025-09-25 00:00')\n",
    "customers['join_date']  = customers['join_date'].fillna(default_dt)\n",
    "complaints['created_at'] = complaints['created_at'].fillna(default_dt)\n",
    "\n",
    "# --- Fix missing IDs or text ---\n",
    "complaints['customer_id'] = complaints['customer_id'].fillna(-1).astype(int)\n",
    "complaints['description'] = complaints['description'].fillna(\"No description provided\")\n",
    "\n",
    "# --- Merge ---\n",
    "merged = customers.merge(complaints, on='customer_id', how='left')\n",
    "\n",
    "# --- Post-merge fixes ---\n",
    "merged['complaint_id'] = merged['complaint_id'].fillna(\"NO-COMPLAINT\")\n",
    "merged['category']     = merged['category'].fillna(\"No Complaint\")\n",
    "merged['status']       = merged['status'].fillna(\"Resolved\")\n",
    "merged['created_at']   = merged['created_at'].fillna(default_dt)\n",
    "\n",
    "# Derived flag\n",
    "merged['is_open'] = (merged['status'] == 'Open')\n",
    "print(\"✅ Data transformed successfully!\")\n",
    "merged.head()\n"
   ]
  }
 ],
 "metadata": {
  "kernelspec": {
   "display_name": "Python 3",
   "language": "python",
   "name": "python3"
  },
  "language_info": {
   "codemirror_mode": {
    "name": "ipython",
    "version": 3
   },
   "file_extension": ".py",
   "mimetype": "text/x-python",
   "name": "python",
   "nbconvert_exporter": "python",
   "pygments_lexer": "ipython3",
   "version": "3.13.5"
  }
 },
 "nbformat": 4,
 "nbformat_minor": 5
}
