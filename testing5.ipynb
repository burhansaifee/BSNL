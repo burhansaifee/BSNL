{
 "cells": [
  {
   "cell_type": "code",
   "execution_count": 1,
   "id": "3d809c24",
   "metadata": {},
   "outputs": [
    {
     "name": "stdout",
     "output_type": "stream",
     "text": [
      "✅ telecom_raw.csv saved successfully.\n"
     ]
    }
   ],
   "source": [
    "import pandas as pd\n",
    "\n",
    "# Create the dataframe with your telecom data\n",
    "data = {\n",
    "    \"customer_id\": [1001, 1002, 1003, 1004, 1005],\n",
    "    \"data_used_gb\": [5.2, None, 7.8, 15.6, 3.4],\n",
    "    \"calls_made\": [25, 40, 32, 55, 18],\n",
    "    \"revenue_inr\": [180, 280, 210, None, 120],\n",
    "    \"region\": [\"delhi\", \"Mumbai\", \"chennai\", \"DELHI\", \"Kolkata\"],\n",
    "    \"date\": [\"2025/09/25\", \"2025-09-25\", \"25-09-2025\", \"2025-09-25\", \"2025-09-25\"]\n",
    "}\n",
    "\n",
    "# Create a DataFrame\n",
    "telecom_df = pd.DataFrame(data)\n",
    "\n",
    "# Save to CSV\n",
    "telecom_df.to_csv(\"telecom_raw.csv\", index=False)\n",
    "\n",
    "print(\"✅ telecom_raw.csv saved successfully.\")\n"
   ]
  },
  {
   "cell_type": "code",
   "execution_count": null,
   "id": "9e8bdf1f",
   "metadata": {},
   "outputs": [],
   "source": []
  }
 ],
 "metadata": {
  "kernelspec": {
   "display_name": "Python 3",
   "language": "python",
   "name": "python3"
  },
  "language_info": {
   "codemirror_mode": {
    "name": "ipython",
    "version": 3
   },
   "file_extension": ".py",
   "mimetype": "text/x-python",
   "name": "python",
   "nbconvert_exporter": "python",
   "pygments_lexer": "ipython3",
   "version": "3.13.5"
  }
 },
 "nbformat": 4,
 "nbformat_minor": 5
}
